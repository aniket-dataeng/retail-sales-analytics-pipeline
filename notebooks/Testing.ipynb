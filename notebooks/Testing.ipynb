{
 "cells": [
  {
   "cell_type": "code",
   "execution_count": 2,
   "id": "feccef28-3f2b-478e-88f1-e62959dff616",
   "metadata": {},
   "outputs": [
    {
     "name": "stdout",
     "output_type": "stream",
     "text": [
      "Defaulting to user installation because normal site-packages is not writeable\n",
      "Collecting pandas\n",
      "  Downloading pandas-2.2.3-cp310-cp310-manylinux_2_17_x86_64.manylinux2014_x86_64.whl (13.1 MB)\n",
      "\u001b[2K     \u001b[38;2;114;156;31m━━━━━━━━━━━━━━━━━━━━━━━━━━━━━━━━━━━━━━━━\u001b[0m \u001b[32m13.1/13.1 MB\u001b[0m \u001b[31m3.2 MB/s\u001b[0m eta \u001b[36m0:00:00\u001b[0mm eta \u001b[36m0:00:01\u001b[0m[36m0:00:01\u001b[0m\n",
      "\u001b[?25hCollecting numpy>=1.22.4\n",
      "  Downloading numpy-2.2.4-cp310-cp310-manylinux_2_17_x86_64.manylinux2014_x86_64.whl (16.4 MB)\n",
      "\u001b[2K     \u001b[38;2;114;156;31m━━━━━━━━━━━━━━━━━━━━━━━━━━━━━━━━━━━━━━━━\u001b[0m \u001b[32m16.4/16.4 MB\u001b[0m \u001b[31m3.6 MB/s\u001b[0m eta \u001b[36m0:00:00\u001b[0mm eta \u001b[36m0:00:01\u001b[0m[36m0:00:01\u001b[0m\n",
      "\u001b[?25hCollecting pytz>=2020.1\n",
      "  Downloading pytz-2025.2-py2.py3-none-any.whl (509 kB)\n",
      "\u001b[2K     \u001b[38;2;114;156;31m━━━━━━━━━━━━━━━━━━━━━━━━━━━━━━━━━━━━━━━\u001b[0m \u001b[32m509.2/509.2 KB\u001b[0m \u001b[31m1.9 MB/s\u001b[0m eta \u001b[36m0:00:00\u001b[0m[36m0:00:01\u001b[0m[36m0:00:01\u001b[0m:01\u001b[0m\n",
      "\u001b[?25hRequirement already satisfied: python-dateutil>=2.8.2 in /home/aniket/.local/lib/python3.10/site-packages (from pandas) (2.9.0.post0)\n",
      "Collecting tzdata>=2022.7\n",
      "  Downloading tzdata-2025.2-py2.py3-none-any.whl (347 kB)\n",
      "\u001b[2K     \u001b[38;2;114;156;31m━━━━━━━━━━━━━━━━━━━━━━━━━━━━━━━━━━━━━━━\u001b[0m \u001b[32m347.8/347.8 KB\u001b[0m \u001b[31m1.1 MB/s\u001b[0m eta \u001b[36m0:00:00\u001b[0m[31m7.3 MB/s\u001b[0m eta \u001b[36m0:00:01\u001b[0m\n",
      "\u001b[?25hRequirement already satisfied: six>=1.5 in /usr/lib/python3/dist-packages (from python-dateutil>=2.8.2->pandas) (1.16.0)\n",
      "Installing collected packages: pytz, tzdata, numpy, pandas\n",
      "Successfully installed numpy-2.2.4 pandas-2.2.3 pytz-2025.2 tzdata-2025.2\n",
      "Note: you may need to restart the kernel to use updated packages.\n"
     ]
    }
   ],
   "source": [
    "pip install pandas"
   ]
  },
  {
   "cell_type": "code",
   "execution_count": 4,
   "id": "c2b48ea1-8bd3-4335-93b5-845ea7ccb9b3",
   "metadata": {},
   "outputs": [],
   "source": [
    "import pandas as p\n",
    "import os"
   ]
  },
  {
   "cell_type": "code",
   "execution_count": 6,
   "id": "a94ed3e6-b72f-4b6f-85d9-ff020a17c6a5",
   "metadata": {},
   "outputs": [],
   "source": [
    "file_path = os.path.expanduser(\"~/Projects/retail-sales-analytics-pipeline/data\")"
   ]
  },
  {
   "cell_type": "code",
   "execution_count": 8,
   "id": "91b7f615-18a0-466e-89bb-dfa72fcb3e12",
   "metadata": {},
   "outputs": [],
   "source": [
    "file_name = \"products.json\""
   ]
  },
  {
   "cell_type": "code",
   "execution_count": 10,
   "id": "848ff26f-46a6-4f2f-abdd-5af89b650736",
   "metadata": {},
   "outputs": [
    {
     "name": "stdout",
     "output_type": "stream",
     "text": [
      "/home/aniket/Projects/retail-sales-analytics-pipeline/data/products.json\n"
     ]
    }
   ],
   "source": [
    "combine = os.path.join(file_path,file_name)\n",
    "print(combine)"
   ]
  },
  {
   "cell_type": "code",
   "execution_count": 11,
   "id": "37a70ec2-3347-4f2e-b254-9a6ccd156a80",
   "metadata": {},
   "outputs": [],
   "source": [
    "json_data = p.read_json(combine)"
   ]
  },
  {
   "cell_type": "code",
   "execution_count": 12,
   "id": "74337e5a-036b-4364-b865-f6721f9c1713",
   "metadata": {},
   "outputs": [
    {
     "name": "stdout",
     "output_type": "stream",
     "text": [
      "  product_id            name     category   price  in_stock\n",
      "0       P001  Wireless Mouse  Electronics  499.99      True\n",
      "1       P002        Yoga Mat      Fitness  999.00     False\n"
     ]
    }
   ],
   "source": [
    "print(json_data)"
   ]
  },
  {
   "cell_type": "code",
   "execution_count": 13,
   "id": "345307a1-44f1-4191-b66c-f89b249fda2c",
   "metadata": {},
   "outputs": [],
   "source": [
    "df = p.DataFrame(json_data)"
   ]
  },
  {
   "cell_type": "code",
   "execution_count": 38,
   "id": "885a47aa-c662-4253-add6-d52b66da4d81",
   "metadata": {},
   "outputs": [
    {
     "name": "stdout",
     "output_type": "stream",
     "text": [
      "<class 'pandas.core.frame.DataFrame'>\n",
      "RangeIndex: 2 entries, 0 to 1\n",
      "Data columns (total 5 columns):\n",
      " #   Column      Non-Null Count  Dtype  \n",
      "---  ------      --------------  -----  \n",
      " 0   product_id  2 non-null      object \n",
      " 1   name        2 non-null      object \n",
      " 2   category    2 non-null      object \n",
      " 3   price       2 non-null      float64\n",
      " 4   in_stock    2 non-null      bool   \n",
      "dtypes: bool(1), float64(1), object(3)\n",
      "memory usage: 194.0+ bytes\n"
     ]
    }
   ],
   "source": [
    "df.info()"
   ]
  },
  {
   "cell_type": "code",
   "execution_count": 39,
   "id": "9e04f2a7-d0dc-4a02-9c27-70eaa1667df4",
   "metadata": {},
   "outputs": [
    {
     "name": "stdout",
     "output_type": "stream",
     "text": [
      "0\n"
     ]
    }
   ],
   "source": [
    "print(df.duplicated().sum())  "
   ]
  },
  {
   "cell_type": "code",
   "execution_count": 40,
   "id": "06010cbc-c8fb-487d-925c-5a74edc1caca",
   "metadata": {},
   "outputs": [
    {
     "name": "stdout",
     "output_type": "stream",
     "text": [
      "product_id    0\n",
      "name          0\n",
      "category      0\n",
      "price         0\n",
      "in_stock      0\n",
      "dtype: int64\n"
     ]
    }
   ],
   "source": [
    "print(df.isnull().sum())  "
   ]
  },
  {
   "cell_type": "code",
   "execution_count": 45,
   "id": "3cb41d88-990d-486a-b416-81bea291e9a7",
   "metadata": {},
   "outputs": [],
   "source": [
    "header = df.columns.tolist()"
   ]
  },
  {
   "cell_type": "code",
   "execution_count": 46,
   "id": "80175616-9163-4d70-8072-f9438886cbc7",
   "metadata": {},
   "outputs": [
    {
     "name": "stdout",
     "output_type": "stream",
     "text": [
      "['product_id', 'name', 'category', 'price', 'in_stock']\n"
     ]
    }
   ],
   "source": [
    "print(header)"
   ]
  },
  {
   "cell_type": "code",
   "execution_count": 48,
   "id": "fa3335ff-896f-4fba-9e1c-9e5d58234859",
   "metadata": {},
   "outputs": [
    {
     "data": {
      "text/html": [
       "<div>\n",
       "<style scoped>\n",
       "    .dataframe tbody tr th:only-of-type {\n",
       "        vertical-align: middle;\n",
       "    }\n",
       "\n",
       "    .dataframe tbody tr th {\n",
       "        vertical-align: top;\n",
       "    }\n",
       "\n",
       "    .dataframe thead th {\n",
       "        text-align: right;\n",
       "    }\n",
       "</style>\n",
       "<table border=\"1\" class=\"dataframe\">\n",
       "  <thead>\n",
       "    <tr style=\"text-align: right;\">\n",
       "      <th></th>\n",
       "      <th>product_id</th>\n",
       "      <th>name</th>\n",
       "      <th>category</th>\n",
       "      <th>price</th>\n",
       "      <th>in_stock</th>\n",
       "    </tr>\n",
       "  </thead>\n",
       "  <tbody>\n",
       "    <tr>\n",
       "      <th>0</th>\n",
       "      <td>P001</td>\n",
       "      <td>Wireless Mouse</td>\n",
       "      <td>Electronics</td>\n",
       "      <td>499.99</td>\n",
       "      <td>True</td>\n",
       "    </tr>\n",
       "    <tr>\n",
       "      <th>1</th>\n",
       "      <td>P002</td>\n",
       "      <td>Yoga Mat</td>\n",
       "      <td>Fitness</td>\n",
       "      <td>999.00</td>\n",
       "      <td>False</td>\n",
       "    </tr>\n",
       "  </tbody>\n",
       "</table>\n",
       "</div>"
      ],
      "text/plain": [
       "  product_id            name     category   price  in_stock\n",
       "0       P001  Wireless Mouse  Electronics  499.99      True\n",
       "1       P002        Yoga Mat      Fitness  999.00     False"
      ]
     },
     "execution_count": 48,
     "metadata": {},
     "output_type": "execute_result"
    }
   ],
   "source": [
    "df"
   ]
  },
  {
   "cell_type": "code",
   "execution_count": 54,
   "id": "845c4a2f-83c9-401e-a5eb-c5b372c52603",
   "metadata": {},
   "outputs": [
    {
     "data": {
      "text/plain": [
       "'name'"
      ]
     },
     "execution_count": 54,
     "metadata": {},
     "output_type": "execute_result"
    }
   ],
   "source": [
    "df.columns[1]"
   ]
  },
  {
   "cell_type": "code",
   "execution_count": 61,
   "id": "2a834e03-ef9f-43d4-a440-da031e07cd04",
   "metadata": {},
   "outputs": [
    {
     "data": {
      "text/html": [
       "<div>\n",
       "<style scoped>\n",
       "    .dataframe tbody tr th:only-of-type {\n",
       "        vertical-align: middle;\n",
       "    }\n",
       "\n",
       "    .dataframe tbody tr th {\n",
       "        vertical-align: top;\n",
       "    }\n",
       "\n",
       "    .dataframe thead th {\n",
       "        text-align: right;\n",
       "    }\n",
       "</style>\n",
       "<table border=\"1\" class=\"dataframe\">\n",
       "  <thead>\n",
       "    <tr style=\"text-align: right;\">\n",
       "      <th></th>\n",
       "      <th>name</th>\n",
       "      <th>price</th>\n",
       "    </tr>\n",
       "  </thead>\n",
       "  <tbody>\n",
       "    <tr>\n",
       "      <th>0</th>\n",
       "      <td>Wireless Mouse</td>\n",
       "      <td>499.99</td>\n",
       "    </tr>\n",
       "    <tr>\n",
       "      <th>1</th>\n",
       "      <td>Yoga Mat</td>\n",
       "      <td>999.00</td>\n",
       "    </tr>\n",
       "  </tbody>\n",
       "</table>\n",
       "</div>"
      ],
      "text/plain": [
       "             name   price\n",
       "0  Wireless Mouse  499.99\n",
       "1        Yoga Mat  999.00"
      ]
     },
     "execution_count": 61,
     "metadata": {},
     "output_type": "execute_result"
    }
   ],
   "source": [
    "df[['name', 'price']]"
   ]
  },
  {
   "cell_type": "code",
   "execution_count": 68,
   "id": "08cffad1-0b23-4398-9880-8eb3407fe2f5",
   "metadata": {},
   "outputs": [
    {
     "data": {
      "text/html": [
       "<div>\n",
       "<style scoped>\n",
       "    .dataframe tbody tr th:only-of-type {\n",
       "        vertical-align: middle;\n",
       "    }\n",
       "\n",
       "    .dataframe tbody tr th {\n",
       "        vertical-align: top;\n",
       "    }\n",
       "\n",
       "    .dataframe thead th {\n",
       "        text-align: right;\n",
       "    }\n",
       "</style>\n",
       "<table border=\"1\" class=\"dataframe\">\n",
       "  <thead>\n",
       "    <tr style=\"text-align: right;\">\n",
       "      <th></th>\n",
       "      <th>price</th>\n",
       "    </tr>\n",
       "  </thead>\n",
       "  <tbody>\n",
       "    <tr>\n",
       "      <th>0</th>\n",
       "      <td>False</td>\n",
       "    </tr>\n",
       "    <tr>\n",
       "      <th>1</th>\n",
       "      <td>False</td>\n",
       "    </tr>\n",
       "  </tbody>\n",
       "</table>\n",
       "</div>"
      ],
      "text/plain": [
       "   price\n",
       "0  False\n",
       "1  False"
      ]
     },
     "execution_count": 68,
     "metadata": {},
     "output_type": "execute_result"
    }
   ],
   "source": [
    "df[['price']].isnull()"
   ]
  },
  {
   "cell_type": "code",
   "execution_count": 69,
   "id": "e22cfd5a-271a-4a84-89e4-cf3e6b68425f",
   "metadata": {},
   "outputs": [],
   "source": [
    "del df"
   ]
  },
  {
   "cell_type": "code",
   "execution_count": 70,
   "id": "88c3e49b-df97-4ab3-a108-386153db912d",
   "metadata": {},
   "outputs": [
    {
     "data": {
      "text/plain": [
       "'/home/aniket/Projects/retail-sales-analytics-pipeline/data/products.json'"
      ]
     },
     "execution_count": 70,
     "metadata": {},
     "output_type": "execute_result"
    }
   ],
   "source": [
    "combine"
   ]
  },
  {
   "cell_type": "code",
   "execution_count": 71,
   "id": "3478ddcc-25fc-4494-97d1-256afbc2390b",
   "metadata": {},
   "outputs": [],
   "source": [
    "json_data = p.read_json(combine)"
   ]
  },
  {
   "cell_type": "code",
   "execution_count": 72,
   "id": "9c326b3b-34f6-4b43-a34f-19ed308763bb",
   "metadata": {},
   "outputs": [],
   "source": [
    "df = p.DataFrame(json_data)"
   ]
  },
  {
   "cell_type": "code",
   "execution_count": 73,
   "id": "e9a047ce-4914-44e6-9f6e-47e460d42a50",
   "metadata": {},
   "outputs": [
    {
     "data": {
      "text/html": [
       "<div>\n",
       "<style scoped>\n",
       "    .dataframe tbody tr th:only-of-type {\n",
       "        vertical-align: middle;\n",
       "    }\n",
       "\n",
       "    .dataframe tbody tr th {\n",
       "        vertical-align: top;\n",
       "    }\n",
       "\n",
       "    .dataframe thead th {\n",
       "        text-align: right;\n",
       "    }\n",
       "</style>\n",
       "<table border=\"1\" class=\"dataframe\">\n",
       "  <thead>\n",
       "    <tr style=\"text-align: right;\">\n",
       "      <th></th>\n",
       "      <th>product_id</th>\n",
       "      <th>product_name</th>\n",
       "      <th>category</th>\n",
       "      <th>price</th>\n",
       "      <th>quantity</th>\n",
       "    </tr>\n",
       "  </thead>\n",
       "  <tbody>\n",
       "    <tr>\n",
       "      <th>0</th>\n",
       "      <td>P001</td>\n",
       "      <td>Wireless Mouse</td>\n",
       "      <td>Electronics</td>\n",
       "      <td>19.99</td>\n",
       "      <td>150</td>\n",
       "    </tr>\n",
       "    <tr>\n",
       "      <th>1</th>\n",
       "      <td>P002</td>\n",
       "      <td>Bluetooth Headphones</td>\n",
       "      <td>Electronics</td>\n",
       "      <td>59.99</td>\n",
       "      <td>80</td>\n",
       "    </tr>\n",
       "    <tr>\n",
       "      <th>2</th>\n",
       "      <td>P003</td>\n",
       "      <td>Gaming Keyboard</td>\n",
       "      <td>Electronics</td>\n",
       "      <td>49.99</td>\n",
       "      <td>40</td>\n",
       "    </tr>\n",
       "    <tr>\n",
       "      <th>3</th>\n",
       "      <td>P004</td>\n",
       "      <td>USB-C Hub</td>\n",
       "      <td>Accessories</td>\n",
       "      <td>29.99</td>\n",
       "      <td>120</td>\n",
       "    </tr>\n",
       "    <tr>\n",
       "      <th>4</th>\n",
       "      <td>P005</td>\n",
       "      <td>Webcam</td>\n",
       "      <td>Electronics</td>\n",
       "      <td>39.99</td>\n",
       "      <td>60</td>\n",
       "    </tr>\n",
       "    <tr>\n",
       "      <th>5</th>\n",
       "      <td>P006</td>\n",
       "      <td>Laptop Stand</td>\n",
       "      <td>Accessories</td>\n",
       "      <td>34.99</td>\n",
       "      <td>70</td>\n",
       "    </tr>\n",
       "    <tr>\n",
       "      <th>6</th>\n",
       "      <td>P007</td>\n",
       "      <td>Portable SSD</td>\n",
       "      <td>Storage</td>\n",
       "      <td>89.99</td>\n",
       "      <td>45</td>\n",
       "    </tr>\n",
       "    <tr>\n",
       "      <th>7</th>\n",
       "      <td>P008</td>\n",
       "      <td>Smartwatch</td>\n",
       "      <td>Wearables</td>\n",
       "      <td>129.99</td>\n",
       "      <td>30</td>\n",
       "    </tr>\n",
       "    <tr>\n",
       "      <th>8</th>\n",
       "      <td>P009</td>\n",
       "      <td>Monitor 24\"</td>\n",
       "      <td>Electronics</td>\n",
       "      <td>159.99</td>\n",
       "      <td>20</td>\n",
       "    </tr>\n",
       "    <tr>\n",
       "      <th>9</th>\n",
       "      <td>P010</td>\n",
       "      <td>Mechanical Pencil</td>\n",
       "      <td>Stationery</td>\n",
       "      <td>2.99</td>\n",
       "      <td>500</td>\n",
       "    </tr>\n",
       "  </tbody>\n",
       "</table>\n",
       "</div>"
      ],
      "text/plain": [
       "  product_id          product_name     category   price  quantity\n",
       "0       P001        Wireless Mouse  Electronics   19.99       150\n",
       "1       P002  Bluetooth Headphones  Electronics   59.99        80\n",
       "2       P003       Gaming Keyboard  Electronics   49.99        40\n",
       "3       P004             USB-C Hub  Accessories   29.99       120\n",
       "4       P005                Webcam  Electronics   39.99        60\n",
       "5       P006          Laptop Stand  Accessories   34.99        70\n",
       "6       P007          Portable SSD      Storage   89.99        45\n",
       "7       P008            Smartwatch    Wearables  129.99        30\n",
       "8       P009           Monitor 24\"  Electronics  159.99        20\n",
       "9       P010     Mechanical Pencil   Stationery    2.99       500"
      ]
     },
     "execution_count": 73,
     "metadata": {},
     "output_type": "execute_result"
    }
   ],
   "source": [
    "df"
   ]
  },
  {
   "cell_type": "code",
   "execution_count": 79,
   "id": "22adda57-e6a5-41b6-a94e-87a0896d891d",
   "metadata": {},
   "outputs": [],
   "source": [
    "new_df = df[['product_name','price']]"
   ]
  },
  {
   "cell_type": "code",
   "execution_count": 80,
   "id": "812bbbfc-72e3-4dea-900d-60ab7c55af6d",
   "metadata": {},
   "outputs": [
    {
     "data": {
      "text/html": [
       "<div>\n",
       "<style scoped>\n",
       "    .dataframe tbody tr th:only-of-type {\n",
       "        vertical-align: middle;\n",
       "    }\n",
       "\n",
       "    .dataframe tbody tr th {\n",
       "        vertical-align: top;\n",
       "    }\n",
       "\n",
       "    .dataframe thead th {\n",
       "        text-align: right;\n",
       "    }\n",
       "</style>\n",
       "<table border=\"1\" class=\"dataframe\">\n",
       "  <thead>\n",
       "    <tr style=\"text-align: right;\">\n",
       "      <th></th>\n",
       "      <th>product_name</th>\n",
       "      <th>price</th>\n",
       "    </tr>\n",
       "  </thead>\n",
       "  <tbody>\n",
       "    <tr>\n",
       "      <th>0</th>\n",
       "      <td>Wireless Mouse</td>\n",
       "      <td>19.99</td>\n",
       "    </tr>\n",
       "    <tr>\n",
       "      <th>1</th>\n",
       "      <td>Bluetooth Headphones</td>\n",
       "      <td>59.99</td>\n",
       "    </tr>\n",
       "    <tr>\n",
       "      <th>2</th>\n",
       "      <td>Gaming Keyboard</td>\n",
       "      <td>49.99</td>\n",
       "    </tr>\n",
       "    <tr>\n",
       "      <th>3</th>\n",
       "      <td>USB-C Hub</td>\n",
       "      <td>29.99</td>\n",
       "    </tr>\n",
       "    <tr>\n",
       "      <th>4</th>\n",
       "      <td>Webcam</td>\n",
       "      <td>39.99</td>\n",
       "    </tr>\n",
       "    <tr>\n",
       "      <th>5</th>\n",
       "      <td>Laptop Stand</td>\n",
       "      <td>34.99</td>\n",
       "    </tr>\n",
       "    <tr>\n",
       "      <th>6</th>\n",
       "      <td>Portable SSD</td>\n",
       "      <td>89.99</td>\n",
       "    </tr>\n",
       "    <tr>\n",
       "      <th>7</th>\n",
       "      <td>Smartwatch</td>\n",
       "      <td>129.99</td>\n",
       "    </tr>\n",
       "    <tr>\n",
       "      <th>8</th>\n",
       "      <td>Monitor 24\"</td>\n",
       "      <td>159.99</td>\n",
       "    </tr>\n",
       "    <tr>\n",
       "      <th>9</th>\n",
       "      <td>Mechanical Pencil</td>\n",
       "      <td>2.99</td>\n",
       "    </tr>\n",
       "  </tbody>\n",
       "</table>\n",
       "</div>"
      ],
      "text/plain": [
       "           product_name   price\n",
       "0        Wireless Mouse   19.99\n",
       "1  Bluetooth Headphones   59.99\n",
       "2       Gaming Keyboard   49.99\n",
       "3             USB-C Hub   29.99\n",
       "4                Webcam   39.99\n",
       "5          Laptop Stand   34.99\n",
       "6          Portable SSD   89.99\n",
       "7            Smartwatch  129.99\n",
       "8           Monitor 24\"  159.99\n",
       "9     Mechanical Pencil    2.99"
      ]
     },
     "execution_count": 80,
     "metadata": {},
     "output_type": "execute_result"
    }
   ],
   "source": [
    "new_df"
   ]
  },
  {
   "cell_type": "code",
   "execution_count": 93,
   "id": "e03ac94c-b0e6-43ea-8fc1-0ccd5c5b5522",
   "metadata": {},
   "outputs": [
    {
     "data": {
      "text/html": [
       "<div>\n",
       "<style scoped>\n",
       "    .dataframe tbody tr th:only-of-type {\n",
       "        vertical-align: middle;\n",
       "    }\n",
       "\n",
       "    .dataframe tbody tr th {\n",
       "        vertical-align: top;\n",
       "    }\n",
       "\n",
       "    .dataframe thead th {\n",
       "        text-align: right;\n",
       "    }\n",
       "</style>\n",
       "<table border=\"1\" class=\"dataframe\">\n",
       "  <thead>\n",
       "    <tr style=\"text-align: right;\">\n",
       "      <th></th>\n",
       "      <th>product_name</th>\n",
       "      <th>price</th>\n",
       "    </tr>\n",
       "  </thead>\n",
       "  <tbody>\n",
       "    <tr>\n",
       "      <th>8</th>\n",
       "      <td>Monitor 24\"</td>\n",
       "      <td>159.99</td>\n",
       "    </tr>\n",
       "    <tr>\n",
       "      <th>7</th>\n",
       "      <td>Smartwatch</td>\n",
       "      <td>129.99</td>\n",
       "    </tr>\n",
       "    <tr>\n",
       "      <th>6</th>\n",
       "      <td>Portable SSD</td>\n",
       "      <td>89.99</td>\n",
       "    </tr>\n",
       "    <tr>\n",
       "      <th>1</th>\n",
       "      <td>Bluetooth Headphones</td>\n",
       "      <td>59.99</td>\n",
       "    </tr>\n",
       "    <tr>\n",
       "      <th>2</th>\n",
       "      <td>Gaming Keyboard</td>\n",
       "      <td>49.99</td>\n",
       "    </tr>\n",
       "    <tr>\n",
       "      <th>4</th>\n",
       "      <td>Webcam</td>\n",
       "      <td>39.99</td>\n",
       "    </tr>\n",
       "    <tr>\n",
       "      <th>5</th>\n",
       "      <td>Laptop Stand</td>\n",
       "      <td>34.99</td>\n",
       "    </tr>\n",
       "    <tr>\n",
       "      <th>3</th>\n",
       "      <td>USB-C Hub</td>\n",
       "      <td>29.99</td>\n",
       "    </tr>\n",
       "    <tr>\n",
       "      <th>0</th>\n",
       "      <td>Wireless Mouse</td>\n",
       "      <td>19.99</td>\n",
       "    </tr>\n",
       "    <tr>\n",
       "      <th>9</th>\n",
       "      <td>Mechanical Pencil</td>\n",
       "      <td>2.99</td>\n",
       "    </tr>\n",
       "  </tbody>\n",
       "</table>\n",
       "</div>"
      ],
      "text/plain": [
       "           product_name   price\n",
       "8           Monitor 24\"  159.99\n",
       "7            Smartwatch  129.99\n",
       "6          Portable SSD   89.99\n",
       "1  Bluetooth Headphones   59.99\n",
       "2       Gaming Keyboard   49.99\n",
       "4                Webcam   39.99\n",
       "5          Laptop Stand   34.99\n",
       "3             USB-C Hub   29.99\n",
       "0        Wireless Mouse   19.99\n",
       "9     Mechanical Pencil    2.99"
      ]
     },
     "execution_count": 93,
     "metadata": {},
     "output_type": "execute_result"
    }
   ],
   "source": [
    "new_df.sort_values('price', ascending = False)"
   ]
  },
  {
   "cell_type": "code",
   "execution_count": 95,
   "id": "92a7d91c-4110-4232-a515-1e2bbb6b5a59",
   "metadata": {},
   "outputs": [
    {
     "data": {
      "text/html": [
       "<div>\n",
       "<style scoped>\n",
       "    .dataframe tbody tr th:only-of-type {\n",
       "        vertical-align: middle;\n",
       "    }\n",
       "\n",
       "    .dataframe tbody tr th {\n",
       "        vertical-align: top;\n",
       "    }\n",
       "\n",
       "    .dataframe thead th {\n",
       "        text-align: right;\n",
       "    }\n",
       "</style>\n",
       "<table border=\"1\" class=\"dataframe\">\n",
       "  <thead>\n",
       "    <tr style=\"text-align: right;\">\n",
       "      <th></th>\n",
       "      <th>product_name</th>\n",
       "      <th>price</th>\n",
       "    </tr>\n",
       "  </thead>\n",
       "  <tbody>\n",
       "    <tr>\n",
       "      <th>8</th>\n",
       "      <td>Monitor 24\"</td>\n",
       "      <td>159.99</td>\n",
       "    </tr>\n",
       "    <tr>\n",
       "      <th>7</th>\n",
       "      <td>Smartwatch</td>\n",
       "      <td>129.99</td>\n",
       "    </tr>\n",
       "    <tr>\n",
       "      <th>6</th>\n",
       "      <td>Portable SSD</td>\n",
       "      <td>89.99</td>\n",
       "    </tr>\n",
       "    <tr>\n",
       "      <th>1</th>\n",
       "      <td>Bluetooth Headphones</td>\n",
       "      <td>59.99</td>\n",
       "    </tr>\n",
       "  </tbody>\n",
       "</table>\n",
       "</div>"
      ],
      "text/plain": [
       "           product_name   price\n",
       "8           Monitor 24\"  159.99\n",
       "7            Smartwatch  129.99\n",
       "6          Portable SSD   89.99\n",
       "1  Bluetooth Headphones   59.99"
      ]
     },
     "execution_count": 95,
     "metadata": {},
     "output_type": "execute_result"
    }
   ],
   "source": [
    "new_df[new_df['price']>50.00].sort_values('price', ascending = False)"
   ]
  },
  {
   "cell_type": "code",
   "execution_count": 96,
   "id": "ffd963a1-a14a-414d-a0ca-697a8239e49a",
   "metadata": {},
   "outputs": [
    {
     "data": {
      "text/html": [
       "<div>\n",
       "<style scoped>\n",
       "    .dataframe tbody tr th:only-of-type {\n",
       "        vertical-align: middle;\n",
       "    }\n",
       "\n",
       "    .dataframe tbody tr th {\n",
       "        vertical-align: top;\n",
       "    }\n",
       "\n",
       "    .dataframe thead th {\n",
       "        text-align: right;\n",
       "    }\n",
       "</style>\n",
       "<table border=\"1\" class=\"dataframe\">\n",
       "  <thead>\n",
       "    <tr style=\"text-align: right;\">\n",
       "      <th></th>\n",
       "      <th>product_id</th>\n",
       "      <th>product_name</th>\n",
       "      <th>category</th>\n",
       "      <th>price</th>\n",
       "      <th>quantity</th>\n",
       "    </tr>\n",
       "  </thead>\n",
       "  <tbody>\n",
       "    <tr>\n",
       "      <th>0</th>\n",
       "      <td>P001</td>\n",
       "      <td>Wireless Mouse</td>\n",
       "      <td>Electronics</td>\n",
       "      <td>19.99</td>\n",
       "      <td>150</td>\n",
       "    </tr>\n",
       "    <tr>\n",
       "      <th>1</th>\n",
       "      <td>P002</td>\n",
       "      <td>Bluetooth Headphones</td>\n",
       "      <td>Electronics</td>\n",
       "      <td>59.99</td>\n",
       "      <td>80</td>\n",
       "    </tr>\n",
       "    <tr>\n",
       "      <th>2</th>\n",
       "      <td>P003</td>\n",
       "      <td>Gaming Keyboard</td>\n",
       "      <td>Electronics</td>\n",
       "      <td>49.99</td>\n",
       "      <td>40</td>\n",
       "    </tr>\n",
       "    <tr>\n",
       "      <th>3</th>\n",
       "      <td>P004</td>\n",
       "      <td>USB-C Hub</td>\n",
       "      <td>Accessories</td>\n",
       "      <td>29.99</td>\n",
       "      <td>120</td>\n",
       "    </tr>\n",
       "    <tr>\n",
       "      <th>4</th>\n",
       "      <td>P005</td>\n",
       "      <td>Webcam</td>\n",
       "      <td>Electronics</td>\n",
       "      <td>39.99</td>\n",
       "      <td>60</td>\n",
       "    </tr>\n",
       "    <tr>\n",
       "      <th>5</th>\n",
       "      <td>P006</td>\n",
       "      <td>Laptop Stand</td>\n",
       "      <td>Accessories</td>\n",
       "      <td>34.99</td>\n",
       "      <td>70</td>\n",
       "    </tr>\n",
       "    <tr>\n",
       "      <th>6</th>\n",
       "      <td>P007</td>\n",
       "      <td>Portable SSD</td>\n",
       "      <td>Storage</td>\n",
       "      <td>89.99</td>\n",
       "      <td>45</td>\n",
       "    </tr>\n",
       "    <tr>\n",
       "      <th>7</th>\n",
       "      <td>P008</td>\n",
       "      <td>Smartwatch</td>\n",
       "      <td>Wearables</td>\n",
       "      <td>129.99</td>\n",
       "      <td>30</td>\n",
       "    </tr>\n",
       "    <tr>\n",
       "      <th>8</th>\n",
       "      <td>P009</td>\n",
       "      <td>Monitor 24\"</td>\n",
       "      <td>Electronics</td>\n",
       "      <td>159.99</td>\n",
       "      <td>20</td>\n",
       "    </tr>\n",
       "    <tr>\n",
       "      <th>9</th>\n",
       "      <td>P010</td>\n",
       "      <td>Mechanical Pencil</td>\n",
       "      <td>Stationery</td>\n",
       "      <td>2.99</td>\n",
       "      <td>500</td>\n",
       "    </tr>\n",
       "  </tbody>\n",
       "</table>\n",
       "</div>"
      ],
      "text/plain": [
       "  product_id          product_name     category   price  quantity\n",
       "0       P001        Wireless Mouse  Electronics   19.99       150\n",
       "1       P002  Bluetooth Headphones  Electronics   59.99        80\n",
       "2       P003       Gaming Keyboard  Electronics   49.99        40\n",
       "3       P004             USB-C Hub  Accessories   29.99       120\n",
       "4       P005                Webcam  Electronics   39.99        60\n",
       "5       P006          Laptop Stand  Accessories   34.99        70\n",
       "6       P007          Portable SSD      Storage   89.99        45\n",
       "7       P008            Smartwatch    Wearables  129.99        30\n",
       "8       P009           Monitor 24\"  Electronics  159.99        20\n",
       "9       P010     Mechanical Pencil   Stationery    2.99       500"
      ]
     },
     "execution_count": 96,
     "metadata": {},
     "output_type": "execute_result"
    }
   ],
   "source": [
    "df"
   ]
  },
  {
   "cell_type": "code",
   "execution_count": 97,
   "id": "4d581cdf-9200-4d92-8380-d9c4319c989b",
   "metadata": {},
   "outputs": [],
   "source": [
    "df['inventory_value'] = df['price']*df['quantity']"
   ]
  },
  {
   "cell_type": "code",
   "execution_count": 98,
   "id": "f2dd0bac-f7f7-49ae-8a15-53c2e59afec8",
   "metadata": {},
   "outputs": [
    {
     "data": {
      "text/html": [
       "<div>\n",
       "<style scoped>\n",
       "    .dataframe tbody tr th:only-of-type {\n",
       "        vertical-align: middle;\n",
       "    }\n",
       "\n",
       "    .dataframe tbody tr th {\n",
       "        vertical-align: top;\n",
       "    }\n",
       "\n",
       "    .dataframe thead th {\n",
       "        text-align: right;\n",
       "    }\n",
       "</style>\n",
       "<table border=\"1\" class=\"dataframe\">\n",
       "  <thead>\n",
       "    <tr style=\"text-align: right;\">\n",
       "      <th></th>\n",
       "      <th>product_id</th>\n",
       "      <th>product_name</th>\n",
       "      <th>category</th>\n",
       "      <th>price</th>\n",
       "      <th>quantity</th>\n",
       "      <th>inventory_value</th>\n",
       "    </tr>\n",
       "  </thead>\n",
       "  <tbody>\n",
       "    <tr>\n",
       "      <th>0</th>\n",
       "      <td>P001</td>\n",
       "      <td>Wireless Mouse</td>\n",
       "      <td>Electronics</td>\n",
       "      <td>19.99</td>\n",
       "      <td>150</td>\n",
       "      <td>2998.50</td>\n",
       "    </tr>\n",
       "    <tr>\n",
       "      <th>1</th>\n",
       "      <td>P002</td>\n",
       "      <td>Bluetooth Headphones</td>\n",
       "      <td>Electronics</td>\n",
       "      <td>59.99</td>\n",
       "      <td>80</td>\n",
       "      <td>4799.20</td>\n",
       "    </tr>\n",
       "    <tr>\n",
       "      <th>2</th>\n",
       "      <td>P003</td>\n",
       "      <td>Gaming Keyboard</td>\n",
       "      <td>Electronics</td>\n",
       "      <td>49.99</td>\n",
       "      <td>40</td>\n",
       "      <td>1999.60</td>\n",
       "    </tr>\n",
       "    <tr>\n",
       "      <th>3</th>\n",
       "      <td>P004</td>\n",
       "      <td>USB-C Hub</td>\n",
       "      <td>Accessories</td>\n",
       "      <td>29.99</td>\n",
       "      <td>120</td>\n",
       "      <td>3598.80</td>\n",
       "    </tr>\n",
       "    <tr>\n",
       "      <th>4</th>\n",
       "      <td>P005</td>\n",
       "      <td>Webcam</td>\n",
       "      <td>Electronics</td>\n",
       "      <td>39.99</td>\n",
       "      <td>60</td>\n",
       "      <td>2399.40</td>\n",
       "    </tr>\n",
       "    <tr>\n",
       "      <th>5</th>\n",
       "      <td>P006</td>\n",
       "      <td>Laptop Stand</td>\n",
       "      <td>Accessories</td>\n",
       "      <td>34.99</td>\n",
       "      <td>70</td>\n",
       "      <td>2449.30</td>\n",
       "    </tr>\n",
       "    <tr>\n",
       "      <th>6</th>\n",
       "      <td>P007</td>\n",
       "      <td>Portable SSD</td>\n",
       "      <td>Storage</td>\n",
       "      <td>89.99</td>\n",
       "      <td>45</td>\n",
       "      <td>4049.55</td>\n",
       "    </tr>\n",
       "    <tr>\n",
       "      <th>7</th>\n",
       "      <td>P008</td>\n",
       "      <td>Smartwatch</td>\n",
       "      <td>Wearables</td>\n",
       "      <td>129.99</td>\n",
       "      <td>30</td>\n",
       "      <td>3899.70</td>\n",
       "    </tr>\n",
       "    <tr>\n",
       "      <th>8</th>\n",
       "      <td>P009</td>\n",
       "      <td>Monitor 24\"</td>\n",
       "      <td>Electronics</td>\n",
       "      <td>159.99</td>\n",
       "      <td>20</td>\n",
       "      <td>3199.80</td>\n",
       "    </tr>\n",
       "    <tr>\n",
       "      <th>9</th>\n",
       "      <td>P010</td>\n",
       "      <td>Mechanical Pencil</td>\n",
       "      <td>Stationery</td>\n",
       "      <td>2.99</td>\n",
       "      <td>500</td>\n",
       "      <td>1495.00</td>\n",
       "    </tr>\n",
       "  </tbody>\n",
       "</table>\n",
       "</div>"
      ],
      "text/plain": [
       "  product_id          product_name     category   price  quantity  \\\n",
       "0       P001        Wireless Mouse  Electronics   19.99       150   \n",
       "1       P002  Bluetooth Headphones  Electronics   59.99        80   \n",
       "2       P003       Gaming Keyboard  Electronics   49.99        40   \n",
       "3       P004             USB-C Hub  Accessories   29.99       120   \n",
       "4       P005                Webcam  Electronics   39.99        60   \n",
       "5       P006          Laptop Stand  Accessories   34.99        70   \n",
       "6       P007          Portable SSD      Storage   89.99        45   \n",
       "7       P008            Smartwatch    Wearables  129.99        30   \n",
       "8       P009           Monitor 24\"  Electronics  159.99        20   \n",
       "9       P010     Mechanical Pencil   Stationery    2.99       500   \n",
       "\n",
       "   inventory_value  \n",
       "0          2998.50  \n",
       "1          4799.20  \n",
       "2          1999.60  \n",
       "3          3598.80  \n",
       "4          2399.40  \n",
       "5          2449.30  \n",
       "6          4049.55  \n",
       "7          3899.70  \n",
       "8          3199.80  \n",
       "9          1495.00  "
      ]
     },
     "execution_count": 98,
     "metadata": {},
     "output_type": "execute_result"
    }
   ],
   "source": [
    "df"
   ]
  },
  {
   "cell_type": "code",
   "execution_count": 99,
   "id": "718a11c7-f7d7-4e5b-80e2-bbb7d756aa27",
   "metadata": {},
   "outputs": [
    {
     "data": {
      "text/html": [
       "<div>\n",
       "<style scoped>\n",
       "    .dataframe tbody tr th:only-of-type {\n",
       "        vertical-align: middle;\n",
       "    }\n",
       "\n",
       "    .dataframe tbody tr th {\n",
       "        vertical-align: top;\n",
       "    }\n",
       "\n",
       "    .dataframe thead th {\n",
       "        text-align: right;\n",
       "    }\n",
       "</style>\n",
       "<table border=\"1\" class=\"dataframe\">\n",
       "  <thead>\n",
       "    <tr style=\"text-align: right;\">\n",
       "      <th></th>\n",
       "      <th>product_id</th>\n",
       "      <th>product_name</th>\n",
       "      <th>category</th>\n",
       "      <th>price</th>\n",
       "      <th>quantity</th>\n",
       "      <th>inventory_value</th>\n",
       "    </tr>\n",
       "  </thead>\n",
       "  <tbody>\n",
       "    <tr>\n",
       "      <th>1</th>\n",
       "      <td>P002</td>\n",
       "      <td>Bluetooth Headphones</td>\n",
       "      <td>Electronics</td>\n",
       "      <td>59.99</td>\n",
       "      <td>80</td>\n",
       "      <td>4799.20</td>\n",
       "    </tr>\n",
       "    <tr>\n",
       "      <th>6</th>\n",
       "      <td>P007</td>\n",
       "      <td>Portable SSD</td>\n",
       "      <td>Storage</td>\n",
       "      <td>89.99</td>\n",
       "      <td>45</td>\n",
       "      <td>4049.55</td>\n",
       "    </tr>\n",
       "    <tr>\n",
       "      <th>7</th>\n",
       "      <td>P008</td>\n",
       "      <td>Smartwatch</td>\n",
       "      <td>Wearables</td>\n",
       "      <td>129.99</td>\n",
       "      <td>30</td>\n",
       "      <td>3899.70</td>\n",
       "    </tr>\n",
       "    <tr>\n",
       "      <th>3</th>\n",
       "      <td>P004</td>\n",
       "      <td>USB-C Hub</td>\n",
       "      <td>Accessories</td>\n",
       "      <td>29.99</td>\n",
       "      <td>120</td>\n",
       "      <td>3598.80</td>\n",
       "    </tr>\n",
       "    <tr>\n",
       "      <th>8</th>\n",
       "      <td>P009</td>\n",
       "      <td>Monitor 24\"</td>\n",
       "      <td>Electronics</td>\n",
       "      <td>159.99</td>\n",
       "      <td>20</td>\n",
       "      <td>3199.80</td>\n",
       "    </tr>\n",
       "    <tr>\n",
       "      <th>0</th>\n",
       "      <td>P001</td>\n",
       "      <td>Wireless Mouse</td>\n",
       "      <td>Electronics</td>\n",
       "      <td>19.99</td>\n",
       "      <td>150</td>\n",
       "      <td>2998.50</td>\n",
       "    </tr>\n",
       "    <tr>\n",
       "      <th>5</th>\n",
       "      <td>P006</td>\n",
       "      <td>Laptop Stand</td>\n",
       "      <td>Accessories</td>\n",
       "      <td>34.99</td>\n",
       "      <td>70</td>\n",
       "      <td>2449.30</td>\n",
       "    </tr>\n",
       "    <tr>\n",
       "      <th>4</th>\n",
       "      <td>P005</td>\n",
       "      <td>Webcam</td>\n",
       "      <td>Electronics</td>\n",
       "      <td>39.99</td>\n",
       "      <td>60</td>\n",
       "      <td>2399.40</td>\n",
       "    </tr>\n",
       "    <tr>\n",
       "      <th>2</th>\n",
       "      <td>P003</td>\n",
       "      <td>Gaming Keyboard</td>\n",
       "      <td>Electronics</td>\n",
       "      <td>49.99</td>\n",
       "      <td>40</td>\n",
       "      <td>1999.60</td>\n",
       "    </tr>\n",
       "    <tr>\n",
       "      <th>9</th>\n",
       "      <td>P010</td>\n",
       "      <td>Mechanical Pencil</td>\n",
       "      <td>Stationery</td>\n",
       "      <td>2.99</td>\n",
       "      <td>500</td>\n",
       "      <td>1495.00</td>\n",
       "    </tr>\n",
       "  </tbody>\n",
       "</table>\n",
       "</div>"
      ],
      "text/plain": [
       "  product_id          product_name     category   price  quantity  \\\n",
       "1       P002  Bluetooth Headphones  Electronics   59.99        80   \n",
       "6       P007          Portable SSD      Storage   89.99        45   \n",
       "7       P008            Smartwatch    Wearables  129.99        30   \n",
       "3       P004             USB-C Hub  Accessories   29.99       120   \n",
       "8       P009           Monitor 24\"  Electronics  159.99        20   \n",
       "0       P001        Wireless Mouse  Electronics   19.99       150   \n",
       "5       P006          Laptop Stand  Accessories   34.99        70   \n",
       "4       P005                Webcam  Electronics   39.99        60   \n",
       "2       P003       Gaming Keyboard  Electronics   49.99        40   \n",
       "9       P010     Mechanical Pencil   Stationery    2.99       500   \n",
       "\n",
       "   inventory_value  \n",
       "1          4799.20  \n",
       "6          4049.55  \n",
       "7          3899.70  \n",
       "3          3598.80  \n",
       "8          3199.80  \n",
       "0          2998.50  \n",
       "5          2449.30  \n",
       "4          2399.40  \n",
       "2          1999.60  \n",
       "9          1495.00  "
      ]
     },
     "execution_count": 99,
     "metadata": {},
     "output_type": "execute_result"
    }
   ],
   "source": [
    "df.sort_values('inventory_value', ascending = False)"
   ]
  },
  {
   "cell_type": "code",
   "execution_count": 102,
   "id": "bcc6ce23-cc5d-4046-b693-493f79045231",
   "metadata": {},
   "outputs": [
    {
     "data": {
      "text/html": [
       "<div>\n",
       "<style scoped>\n",
       "    .dataframe tbody tr th:only-of-type {\n",
       "        vertical-align: middle;\n",
       "    }\n",
       "\n",
       "    .dataframe tbody tr th {\n",
       "        vertical-align: top;\n",
       "    }\n",
       "\n",
       "    .dataframe thead th {\n",
       "        text-align: right;\n",
       "    }\n",
       "</style>\n",
       "<table border=\"1\" class=\"dataframe\">\n",
       "  <thead>\n",
       "    <tr style=\"text-align: right;\">\n",
       "      <th></th>\n",
       "      <th>product_id</th>\n",
       "      <th>product_name</th>\n",
       "      <th>category</th>\n",
       "      <th>price</th>\n",
       "      <th>quantity</th>\n",
       "      <th>inventory_value</th>\n",
       "    </tr>\n",
       "  </thead>\n",
       "  <tbody>\n",
       "    <tr>\n",
       "      <th>1</th>\n",
       "      <td>P002</td>\n",
       "      <td>Bluetooth Headphones</td>\n",
       "      <td>Electronics</td>\n",
       "      <td>59.99</td>\n",
       "      <td>80</td>\n",
       "      <td>4799.20</td>\n",
       "    </tr>\n",
       "    <tr>\n",
       "      <th>3</th>\n",
       "      <td>P004</td>\n",
       "      <td>USB-C Hub</td>\n",
       "      <td>Accessories</td>\n",
       "      <td>29.99</td>\n",
       "      <td>120</td>\n",
       "      <td>3598.80</td>\n",
       "    </tr>\n",
       "    <tr>\n",
       "      <th>6</th>\n",
       "      <td>P007</td>\n",
       "      <td>Portable SSD</td>\n",
       "      <td>Storage</td>\n",
       "      <td>89.99</td>\n",
       "      <td>45</td>\n",
       "      <td>4049.55</td>\n",
       "    </tr>\n",
       "    <tr>\n",
       "      <th>7</th>\n",
       "      <td>P008</td>\n",
       "      <td>Smartwatch</td>\n",
       "      <td>Wearables</td>\n",
       "      <td>129.99</td>\n",
       "      <td>30</td>\n",
       "      <td>3899.70</td>\n",
       "    </tr>\n",
       "    <tr>\n",
       "      <th>8</th>\n",
       "      <td>P009</td>\n",
       "      <td>Monitor 24\"</td>\n",
       "      <td>Electronics</td>\n",
       "      <td>159.99</td>\n",
       "      <td>20</td>\n",
       "      <td>3199.80</td>\n",
       "    </tr>\n",
       "  </tbody>\n",
       "</table>\n",
       "</div>"
      ],
      "text/plain": [
       "  product_id          product_name     category   price  quantity  \\\n",
       "1       P002  Bluetooth Headphones  Electronics   59.99        80   \n",
       "3       P004             USB-C Hub  Accessories   29.99       120   \n",
       "6       P007          Portable SSD      Storage   89.99        45   \n",
       "7       P008            Smartwatch    Wearables  129.99        30   \n",
       "8       P009           Monitor 24\"  Electronics  159.99        20   \n",
       "\n",
       "   inventory_value  \n",
       "1          4799.20  \n",
       "3          3598.80  \n",
       "6          4049.55  \n",
       "7          3899.70  \n",
       "8          3199.80  "
      ]
     },
     "execution_count": 102,
     "metadata": {},
     "output_type": "execute_result"
    }
   ],
   "source": [
    "df[df['inventory_value']>3000.00]"
   ]
  },
  {
   "cell_type": "code",
   "execution_count": 104,
   "id": "c5f80fa1-af51-461b-be00-8641d8b6d90d",
   "metadata": {},
   "outputs": [
    {
     "data": {
      "text/plain": [
       "product_id          object\n",
       "product_name        object\n",
       "category            object\n",
       "price              float64\n",
       "quantity             int64\n",
       "inventory_value    float64\n",
       "dtype: object"
      ]
     },
     "execution_count": 104,
     "metadata": {},
     "output_type": "execute_result"
    }
   ],
   "source": [
    "df.dtypes"
   ]
  },
  {
   "cell_type": "code",
   "execution_count": null,
   "id": "223db58f-3e7f-4d40-aa5f-d179d443287b",
   "metadata": {},
   "outputs": [],
   "source": []
  }
 ],
 "metadata": {
  "kernelspec": {
   "display_name": "Python 3 (ipykernel)",
   "language": "python",
   "name": "python3"
  },
  "language_info": {
   "codemirror_mode": {
    "name": "ipython",
    "version": 3
   },
   "file_extension": ".py",
   "mimetype": "text/x-python",
   "name": "python",
   "nbconvert_exporter": "python",
   "pygments_lexer": "ipython3",
   "version": "3.10.12"
  }
 },
 "nbformat": 4,
 "nbformat_minor": 5
}
